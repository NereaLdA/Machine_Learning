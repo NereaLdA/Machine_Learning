{
 "cells": [
  {
   "cell_type": "code",
   "execution_count": 1,
   "id": "c581a5f1",
   "metadata": {},
   "outputs": [],
   "source": [
    "import pandas as pd\n",
    "import seaborn as sns\n",
    "import matplotlib.pyplot as plt\n",
    "import numpy as np\n",
    "\n",
    "#MODELO 1: Regresión logística\n",
    "from sklearn.linear_model import LogisticRegression\n",
    "from sklearn.model_selection import train_test_split\n",
    "from sklearn.metrics import accuracy_score, precision_score, recall_score, confusion_matrix, f1_score\n",
    "from sklearn.preprocessing import StandardScaler\n",
    "from sklearn.metrics import roc_auc_score, roc_curve, precision_recall_curve, classification_report\n",
    "\n",
    "\n",
    "\n"
   ]
  },
  {
   "cell_type": "markdown",
   "id": "57a034b2",
   "metadata": {},
   "source": [
    "## DATAFRAME"
   ]
  },
  {
   "cell_type": "code",
   "execution_count": 2,
   "id": "8b173484",
   "metadata": {},
   "outputs": [
    {
     "data": {
      "text/html": [
       "<div>\n",
       "<style scoped>\n",
       "    .dataframe tbody tr th:only-of-type {\n",
       "        vertical-align: middle;\n",
       "    }\n",
       "\n",
       "    .dataframe tbody tr th {\n",
       "        vertical-align: top;\n",
       "    }\n",
       "\n",
       "    .dataframe thead th {\n",
       "        text-align: right;\n",
       "    }\n",
       "</style>\n",
       "<table border=\"1\" class=\"dataframe\">\n",
       "  <thead>\n",
       "    <tr style=\"text-align: right;\">\n",
       "      <th></th>\n",
       "      <th>Stress</th>\n",
       "      <th>Age</th>\n",
       "      <th>Hair Loss</th>\n",
       "      <th>Genetics_encoder</th>\n",
       "      <th>Hormones_encoder</th>\n",
       "      <th>HairCare_encoder</th>\n",
       "      <th>Smoking_encoder</th>\n",
       "      <th>Weight_encoder</th>\n",
       "    </tr>\n",
       "  </thead>\n",
       "  <tbody>\n",
       "    <tr>\n",
       "      <th>0</th>\n",
       "      <td>1</td>\n",
       "      <td>19</td>\n",
       "      <td>0</td>\n",
       "      <td>1.0</td>\n",
       "      <td>0.0</td>\n",
       "      <td>1.0</td>\n",
       "      <td>0.0</td>\n",
       "      <td>0.0</td>\n",
       "    </tr>\n",
       "  </tbody>\n",
       "</table>\n",
       "</div>"
      ],
      "text/plain": [
       "   Stress  Age  Hair Loss  Genetics_encoder  Hormones_encoder  \\\n",
       "0       1   19          0               1.0               0.0   \n",
       "\n",
       "   HairCare_encoder  Smoking_encoder  Weight_encoder  \n",
       "0               1.0              0.0             0.0  "
      ]
     },
     "execution_count": 2,
     "metadata": {},
     "output_type": "execute_result"
    }
   ],
   "source": [
    "df = pd.read_csv(\"../data/processed/simple.csv\")\n",
    "df.head(1)"
   ]
  },
  {
   "cell_type": "code",
   "execution_count": 3,
   "id": "c84800bb",
   "metadata": {},
   "outputs": [
    {
     "name": "stdout",
     "output_type": "stream",
     "text": [
      "<class 'pandas.core.frame.DataFrame'>\n",
      "RangeIndex: 999 entries, 0 to 998\n",
      "Data columns (total 8 columns):\n",
      " #   Column            Non-Null Count  Dtype  \n",
      "---  ------            --------------  -----  \n",
      " 0   Stress            999 non-null    int64  \n",
      " 1   Age               999 non-null    int64  \n",
      " 2   Hair Loss         999 non-null    int64  \n",
      " 3   Genetics_encoder  999 non-null    float64\n",
      " 4   Hormones_encoder  999 non-null    float64\n",
      " 5   HairCare_encoder  999 non-null    float64\n",
      " 6   Smoking_encoder   999 non-null    float64\n",
      " 7   Weight_encoder    999 non-null    float64\n",
      "dtypes: float64(5), int64(3)\n",
      "memory usage: 62.6 KB\n"
     ]
    }
   ],
   "source": [
    "df.info()"
   ]
  },
  {
   "cell_type": "code",
   "execution_count": 4,
   "id": "f92841da",
   "metadata": {},
   "outputs": [
    {
     "data": {
      "text/html": [
       "<div>\n",
       "<style scoped>\n",
       "    .dataframe tbody tr th:only-of-type {\n",
       "        vertical-align: middle;\n",
       "    }\n",
       "\n",
       "    .dataframe tbody tr th {\n",
       "        vertical-align: top;\n",
       "    }\n",
       "\n",
       "    .dataframe thead th {\n",
       "        text-align: right;\n",
       "    }\n",
       "</style>\n",
       "<table border=\"1\" class=\"dataframe\">\n",
       "  <thead>\n",
       "    <tr style=\"text-align: right;\">\n",
       "      <th></th>\n",
       "      <th>Stress</th>\n",
       "      <th>Age</th>\n",
       "      <th>Hair Loss</th>\n",
       "      <th>Genetics_encoder</th>\n",
       "      <th>Hormones_encoder</th>\n",
       "      <th>HairCare_encoder</th>\n",
       "      <th>Smoking_encoder</th>\n",
       "      <th>Weight_encoder</th>\n",
       "    </tr>\n",
       "  </thead>\n",
       "  <tbody>\n",
       "    <tr>\n",
       "      <th>count</th>\n",
       "      <td>999.000000</td>\n",
       "      <td>999.000000</td>\n",
       "      <td>999.000000</td>\n",
       "      <td>999.000000</td>\n",
       "      <td>999.00000</td>\n",
       "      <td>999.000000</td>\n",
       "      <td>999.000000</td>\n",
       "      <td>999.000000</td>\n",
       "    </tr>\n",
       "    <tr>\n",
       "      <th>mean</th>\n",
       "      <td>0.993994</td>\n",
       "      <td>34.188188</td>\n",
       "      <td>0.497497</td>\n",
       "      <td>0.522523</td>\n",
       "      <td>0.50951</td>\n",
       "      <td>0.492492</td>\n",
       "      <td>0.519520</td>\n",
       "      <td>0.472472</td>\n",
       "    </tr>\n",
       "    <tr>\n",
       "      <th>std</th>\n",
       "      <td>0.805768</td>\n",
       "      <td>9.377980</td>\n",
       "      <td>0.500244</td>\n",
       "      <td>0.499743</td>\n",
       "      <td>0.50016</td>\n",
       "      <td>0.500194</td>\n",
       "      <td>0.499869</td>\n",
       "      <td>0.499492</td>\n",
       "    </tr>\n",
       "    <tr>\n",
       "      <th>min</th>\n",
       "      <td>0.000000</td>\n",
       "      <td>18.000000</td>\n",
       "      <td>0.000000</td>\n",
       "      <td>0.000000</td>\n",
       "      <td>0.00000</td>\n",
       "      <td>0.000000</td>\n",
       "      <td>0.000000</td>\n",
       "      <td>0.000000</td>\n",
       "    </tr>\n",
       "    <tr>\n",
       "      <th>25%</th>\n",
       "      <td>0.000000</td>\n",
       "      <td>26.000000</td>\n",
       "      <td>0.000000</td>\n",
       "      <td>0.000000</td>\n",
       "      <td>0.00000</td>\n",
       "      <td>0.000000</td>\n",
       "      <td>0.000000</td>\n",
       "      <td>0.000000</td>\n",
       "    </tr>\n",
       "    <tr>\n",
       "      <th>50%</th>\n",
       "      <td>1.000000</td>\n",
       "      <td>34.000000</td>\n",
       "      <td>0.000000</td>\n",
       "      <td>1.000000</td>\n",
       "      <td>1.00000</td>\n",
       "      <td>0.000000</td>\n",
       "      <td>1.000000</td>\n",
       "      <td>0.000000</td>\n",
       "    </tr>\n",
       "    <tr>\n",
       "      <th>75%</th>\n",
       "      <td>2.000000</td>\n",
       "      <td>42.000000</td>\n",
       "      <td>1.000000</td>\n",
       "      <td>1.000000</td>\n",
       "      <td>1.00000</td>\n",
       "      <td>1.000000</td>\n",
       "      <td>1.000000</td>\n",
       "      <td>1.000000</td>\n",
       "    </tr>\n",
       "    <tr>\n",
       "      <th>max</th>\n",
       "      <td>2.000000</td>\n",
       "      <td>50.000000</td>\n",
       "      <td>1.000000</td>\n",
       "      <td>1.000000</td>\n",
       "      <td>1.00000</td>\n",
       "      <td>1.000000</td>\n",
       "      <td>1.000000</td>\n",
       "      <td>1.000000</td>\n",
       "    </tr>\n",
       "  </tbody>\n",
       "</table>\n",
       "</div>"
      ],
      "text/plain": [
       "           Stress         Age   Hair Loss  Genetics_encoder  Hormones_encoder  \\\n",
       "count  999.000000  999.000000  999.000000        999.000000         999.00000   \n",
       "mean     0.993994   34.188188    0.497497          0.522523           0.50951   \n",
       "std      0.805768    9.377980    0.500244          0.499743           0.50016   \n",
       "min      0.000000   18.000000    0.000000          0.000000           0.00000   \n",
       "25%      0.000000   26.000000    0.000000          0.000000           0.00000   \n",
       "50%      1.000000   34.000000    0.000000          1.000000           1.00000   \n",
       "75%      2.000000   42.000000    1.000000          1.000000           1.00000   \n",
       "max      2.000000   50.000000    1.000000          1.000000           1.00000   \n",
       "\n",
       "       HairCare_encoder  Smoking_encoder  Weight_encoder  \n",
       "count        999.000000       999.000000      999.000000  \n",
       "mean           0.492492         0.519520        0.472472  \n",
       "std            0.500194         0.499869        0.499492  \n",
       "min            0.000000         0.000000        0.000000  \n",
       "25%            0.000000         0.000000        0.000000  \n",
       "50%            0.000000         1.000000        0.000000  \n",
       "75%            1.000000         1.000000        1.000000  \n",
       "max            1.000000         1.000000        1.000000  "
      ]
     },
     "execution_count": 4,
     "metadata": {},
     "output_type": "execute_result"
    }
   ],
   "source": [
    "df.describe()"
   ]
  },
  {
   "cell_type": "markdown",
   "id": "6cb229d1",
   "metadata": {},
   "source": [
    "## VISUALIZACIONES"
   ]
  },
  {
   "cell_type": "code",
   "execution_count": 5,
   "id": "1d48aeb7",
   "metadata": {},
   "outputs": [
    {
     "data": {
      "text/plain": [
       "<Axes: >"
      ]
     },
     "execution_count": 5,
     "metadata": {},
     "output_type": "execute_result"
    },
    {
     "data": {
      "image/png": "[encoded data removed]",
      "text/plain": [
       "<Figure size 3000x2000 with 2 Axes>"
      ]
     },
     "metadata": {},
     "output_type": "display_data"
    }
   ],
   "source": [
    "plt.figure(figsize=(30, 20))\n",
    "sns.heatmap(df.corr(numeric_only= True), annot= True, cmap= \"coolwarm\", vmin=-1, )"
   ]
  },
  {
   "cell_type": "code",
   "execution_count": 33,
   "id": "dcc7ed56",
   "metadata": {},
   "outputs": [
    {
     "data": {
      "text/plain": [
       "'sns.pairplot(df, hue = \"Hair Loss\")'"
      ]
     },
     "execution_count": 33,
     "metadata": {},
     "output_type": "execute_result"
    }
   ],
   "source": [
    "\"\"\"sns.pairplot(df, hue = \"Hair Loss\")\"\"\""
   ]
  },
  {
   "cell_type": "markdown",
   "id": "701bd622",
   "metadata": {},
   "source": [
    "## MODELO"
   ]
  },
  {
   "cell_type": "markdown",
   "id": "4efc24a4",
   "metadata": {},
   "source": [
    "### Train test split"
   ]
  },
  {
   "cell_type": "code",
   "execution_count": 7,
   "id": "0595cbc5",
   "metadata": {},
   "outputs": [],
   "source": [
    "X = df.drop(columns = [\"Hair Loss\"])\n",
    "y = df[\"Hair Loss\"]"
   ]
  },
  {
   "cell_type": "code",
   "execution_count": 8,
   "id": "1ad8cd5b",
   "metadata": {},
   "outputs": [
    {
     "name": "stdout",
     "output_type": "stream",
     "text": [
      "(799, 7)\n",
      "(799,)\n",
      "(200, 7)\n",
      "(200,)\n"
     ]
    }
   ],
   "source": [
    "X_train, X_test, y_train, y_test = train_test_split(X, y, test_size=0.2, random_state=10)\n",
    "\n",
    "print(X_train.shape)\n",
    "print(y_train.shape)\n",
    "print(X_test.shape)\n",
    "print(y_test.shape)"
   ]
  },
  {
   "cell_type": "markdown",
   "id": "273a86a1",
   "metadata": {},
   "source": [
    "### Standard scaler"
   ]
  },
  {
   "cell_type": "code",
   "execution_count": 9,
   "id": "c711c66b",
   "metadata": {},
   "outputs": [],
   "source": [
    "from sklearn.preprocessing import StandardScaler\n",
    "\n",
    "scaler = StandardScaler()\n",
    "X_train_scaled = X_train.copy()\n",
    "X_train_scaled[\"Age\"] = scaler.fit_transform(X_train[[\"Age\"]])\n",
    "\n",
    "X_test_scaled = X_test.copy()\n",
    "X_test_scaled[\"Age\"] = scaler.transform(X_test[[\"Age\"]])\n"
   ]
  },
  {
   "cell_type": "markdown",
   "id": "cbf3d1dc",
   "metadata": {},
   "source": [
    "### Entrenar y predecir"
   ]
  },
  {
   "cell_type": "code",
   "execution_count": 10,
   "id": "7422edbf",
   "metadata": {},
   "outputs": [
    {
     "data": {
      "text/html": [
       "<style>#sk-container-id-1 {\n",
       "  /* Definition of color scheme common for light and dark mode */\n",
       "  --sklearn-color-text: #000;\n",
       "  --sklearn-color-text-muted: #666;\n",
       "  --sklearn-color-line: gray;\n",
       "  /* Definition of color scheme for unfitted estimators */\n",
       "  --sklearn-color-unfitted-level-0: #fff5e6;\n",
       "  --sklearn-color-unfitted-level-1: #f6e4d2;\n",
       "  --sklearn-color-unfitted-level-2: #ffe0b3;\n",
       "  --sklearn-color-unfitted-level-3: chocolate;\n",
       "  /* Definition of color scheme for fitted estimators */\n",
       "  --sklearn-color-fitted-level-0: #f0f8ff;\n",
       "  --sklearn-color-fitted-level-1: #d4ebff;\n",
       "  --sklearn-color-fitted-level-2: #b3dbfd;\n",
       "  --sklearn-color-fitted-level-3: cornflowerblue;\n",
       "\n",
       "  /* Specific color for light theme */\n",
       "  --sklearn-color-text-on-default-background: var(--sg-text-color, var(--theme-code-foreground, var(--jp-content-font-color1, black)));\n",
       "  --sklearn-color-background: var(--sg-background-color, var(--theme-background, var(--jp-layout-color0, white)));\n",
       "  --sklearn-color-border-box: var(--sg-text-color, var(--theme-code-foreground, var(--jp-content-font-color1, black)));\n",
       "  --sklearn-color-icon: #696969;\n",
       "\n",
       "  @media (prefers-color-scheme: dark) {\n",
       "    /* Redefinition of color scheme for dark theme */\n",
       "    --sklearn-color-text-on-default-background: var(--sg-text-color, var(--theme-code-foreground, var(--jp-content-font-color1, white)));\n",
       "    --sklearn-color-background: var(--sg-background-color, var(--theme-background, var(--jp-layout-color0, #111)));\n",
       "    --sklearn-color-border-box: var(--sg-text-color, var(--theme-code-foreground, var(--jp-content-font-color1, white)));\n",
       "    --sklearn-color-icon: #878787;\n",
       "  }\n",
       "}\n",
       "\n",
       "#sk-container-id-1 {\n",
       "  color: var(--sklearn-color-text);\n",
       "}\n",
       "\n",
       "#sk-container-id-1 pre {\n",
       "  padding: 0;\n",
       "}\n",
       "\n",
       "#sk-container-id-1 input.sk-hidden--visually {\n",
       "  border: 0;\n",
       "  clip: rect(1px 1px 1px 1px);\n",
       "  clip: rect(1px, 1px, 1px, 1px);\n",
       "  height: 1px;\n",
       "  margin: -1px;\n",
       "  overflow: hidden;\n",
       "  padding: 0;\n",
       "  position: absolute;\n",
       "  width: 1px;\n",
       "}\n",
       "\n",
       "#sk-container-id-1 div.sk-dashed-wrapped {\n",
       "  border: 1px dashed var(--sklearn-color-line);\n",
       "  margin: 0 0.4em 0.5em 0.4em;\n",
       "  box-sizing: border-box;\n",
       "  padding-bottom: 0.4em;\n",
       "  background-color: var(--sklearn-color-background);\n",
       "}\n",
       "\n",
       "#sk-container-id-1 div.sk-container {\n",
       "  /* jupyter's `normalize.less` sets `[hidden] { display: none; }`\n",
       "     but bootstrap.min.css set `[hidden] { display: none !important; }`\n",
       "     so we also need the `!important` here to be able to override the\n",
       "     default hidden behavior on the sphinx rendered scikit-learn.org.\n",
       "     See: https://github.com/scikit-learn/scikit-learn/issues/21755 */\n",
       "  display: inline-block !important;\n",
       "  position: relative;\n",
       "}\n",
       "\n",
       "#sk-container-id-1 div.sk-text-repr-fallback {\n",
       "  display: none;\n",
       "}\n",
       "\n",
       "div.sk-parallel-item,\n",
       "div.sk-serial,\n",
       "div.sk-item {\n",
       "  /* draw centered vertical line to link estimators */\n",
       "  background-image: linear-gradient(var(--sklearn-color-text-on-default-background), var(--sklearn-color-text-on-default-background));\n",
       "  background-size: 2px 100%;\n",
       "  background-repeat: no-repeat;\n",
       "  background-position: center center;\n",
       "}\n",
       "\n",
       "/* Parallel-specific style estimator block */\n",
       "\n",
       "#sk-container-id-1 div.sk-parallel-item::after {\n",
       "  content: \"\";\n",
       "  width: 100%;\n",
       "  border-bottom: 2px solid var(--sklearn-color-text-on-default-background);\n",
       "  flex-grow: 1;\n",
       "}\n",
       "\n",
       "#sk-container-id-1 div.sk-parallel {\n",
       "  display: flex;\n",
       "  align-items: stretch;\n",
       "  justify-content: center;\n",
       "  background-color: var(--sklearn-color-background);\n",
       "  position: relative;\n",
       "}\n",
       "\n",
       "#sk-container-id-1 div.sk-parallel-item {\n",
       "  display: flex;\n",
       "  flex-direction: column;\n",
       "}\n",
       "\n",
       "#sk-container-id-1 div.sk-parallel-item:first-child::after {\n",
       "  align-self: flex-end;\n",
       "  width: 50%;\n",
       "}\n",
       "\n",
       "#sk-container-id-1 div.sk-parallel-item:last-child::after {\n",
       "  align-self: flex-start;\n",
       "  width: 50%;\n",
       "}\n",
       "\n",
       "#sk-container-id-1 div.sk-parallel-item:only-child::after {\n",
       "  width: 0;\n",
       "}\n",
       "\n",
       "/* Serial-specific style estimator block */\n",
       "\n",
       "#sk-container-id-1 div.sk-serial {\n",
       "  display: flex;\n",
       "  flex-direction: column;\n",
       "  align-items: center;\n",
       "  background-color: var(--sklearn-color-background);\n",
       "  padding-right: 1em;\n",
       "  padding-left: 1em;\n",
       "}\n",
       "\n",
       "\n",
       "/* Toggleable style: style used for estimator/Pipeline/ColumnTransformer box that is\n",
       "clickable and can be expanded/collapsed.\n",
       "- Pipeline and ColumnTransformer use this feature and define the default style\n",
       "- Estimators will overwrite some part of the style using the `sk-estimator` class\n",
       "*/\n",
       "\n",
       "/* Pipeline and ColumnTransformer style (default) */\n",
       "\n",
       "#sk-container-id-1 div.sk-toggleable {\n",
       "  /* Default theme specific background. It is overwritten whether we have a\n",
       "  specific estimator or a Pipeline/ColumnTransformer */\n",
       "  background-color: var(--sklearn-color-background);\n",
       "}\n",
       "\n",
       "/* Toggleable label */\n",
       "#sk-container-id-1 label.sk-toggleable__label {\n",
       "  cursor: pointer;\n",
       "  display: flex;\n",
       "  width: 100%;\n",
       "  margin-bottom: 0;\n",
       "  padding: 0.5em;\n",
       "  box-sizing: border-box;\n",
       "  text-align: center;\n",
       "  align-items: start;\n",
       "  justify-content: space-between;\n",
       "  gap: 0.5em;\n",
       "}\n",
       "\n",
       "#sk-container-id-1 label.sk-toggleable__label .caption {\n",
       "  font-size: 0.6rem;\n",
       "  font-weight: lighter;\n",
       "  color: var(--sklearn-color-text-muted);\n",
       "}\n",
       "\n",
       "#sk-container-id-1 label.sk-toggleable__label-arrow:before {\n",
       "  /* Arrow on the left of the label */\n",
       "  content: \"▸\";\n",
       "  float: left;\n",
       "  margin-right: 0.25em;\n",
       "  color: var(--sklearn-color-icon);\n",
       "}\n",
       "\n",
       "#sk-container-id-1 label.sk-toggleable__label-arrow:hover:before {\n",
       "  color: var(--sklearn-color-text);\n",
       "}\n",
       "\n",
       "/* Toggleable content - dropdown */\n",
       "\n",
       "#sk-container-id-1 div.sk-toggleable__content {\n",
       "  max-height: 0;\n",
       "  max-width: 0;\n",
       "  overflow: hidden;\n",
       "  text-align: left;\n",
       "  /* unfitted */\n",
       "  background-color: var(--sklearn-color-unfitted-level-0);\n",
       "}\n",
       "\n",
       "#sk-container-id-1 div.sk-toggleable__content.fitted {\n",
       "  /* fitted */\n",
       "  background-color: var(--sklearn-color-fitted-level-0);\n",
       "}\n",
       "\n",
       "#sk-container-id-1 div.sk-toggleable__content pre {\n",
       "  margin: 0.2em;\n",
       "  border-radius: 0.25em;\n",
       "  color: var(--sklearn-color-text);\n",
       "  /* unfitted */\n",
       "  background-color: var(--sklearn-color-unfitted-level-0);\n",
       "}\n",
       "\n",
       "#sk-container-id-1 div.sk-toggleable__content.fitted pre {\n",
       "  /* unfitted */\n",
       "  background-color: var(--sklearn-color-fitted-level-0);\n",
       "}\n",
       "\n",
       "#sk-container-id-1 input.sk-toggleable__control:checked~div.sk-toggleable__content {\n",
       "  /* Expand drop-down */\n",
       "  max-height: 200px;\n",
       "  max-width: 100%;\n",
       "  overflow: auto;\n",
       "}\n",
       "\n",
       "#sk-container-id-1 input.sk-toggleable__control:checked~label.sk-toggleable__label-arrow:before {\n",
       "  content: \"▾\";\n",
       "}\n",
       "\n",
       "/* Pipeline/ColumnTransformer-specific style */\n",
       "\n",
       "#sk-container-id-1 div.sk-label input.sk-toggleable__control:checked~label.sk-toggleable__label {\n",
       "  color: var(--sklearn-color-text);\n",
       "  background-color: var(--sklearn-color-unfitted-level-2);\n",
       "}\n",
       "\n",
       "#sk-container-id-1 div.sk-label.fitted input.sk-toggleable__control:checked~label.sk-toggleable__label {\n",
       "  background-color: var(--sklearn-color-fitted-level-2);\n",
       "}\n",
       "\n",
       "/* Estimator-specific style */\n",
       "\n",
       "/* Colorize estimator box */\n",
       "#sk-container-id-1 div.sk-estimator input.sk-toggleable__control:checked~label.sk-toggleable__label {\n",
       "  /* unfitted */\n",
       "  background-color: var(--sklearn-color-unfitted-level-2);\n",
       "}\n",
       "\n",
       "#sk-container-id-1 div.sk-estimator.fitted input.sk-toggleable__control:checked~label.sk-toggleable__label {\n",
       "  /* fitted */\n",
       "  background-color: var(--sklearn-color-fitted-level-2);\n",
       "}\n",
       "\n",
       "#sk-container-id-1 div.sk-label label.sk-toggleable__label,\n",
       "#sk-container-id-1 div.sk-label label {\n",
       "  /* The background is the default theme color */\n",
       "  color: var(--sklearn-color-text-on-default-background);\n",
       "}\n",
       "\n",
       "/* On hover, darken the color of the background */\n",
       "#sk-container-id-1 div.sk-label:hover label.sk-toggleable__label {\n",
       "  color: var(--sklearn-color-text);\n",
       "  background-color: var(--sklearn-color-unfitted-level-2);\n",
       "}\n",
       "\n",
       "/* Label box, darken color on hover, fitted */\n",
       "#sk-container-id-1 div.sk-label.fitted:hover label.sk-toggleable__label.fitted {\n",
       "  color: var(--sklearn-color-text);\n",
       "  background-color: var(--sklearn-color-fitted-level-2);\n",
       "}\n",
       "\n",
       "/* Estimator label */\n",
       "\n",
       "#sk-container-id-1 div.sk-label label {\n",
       "  font-family: monospace;\n",
       "  font-weight: bold;\n",
       "  display: inline-block;\n",
       "  line-height: 1.2em;\n",
       "}\n",
       "\n",
       "#sk-container-id-1 div.sk-label-container {\n",
       "  text-align: center;\n",
       "}\n",
       "\n",
       "/* Estimator-specific */\n",
       "#sk-container-id-1 div.sk-estimator {\n",
       "  font-family: monospace;\n",
       "  border: 1px dotted var(--sklearn-color-border-box);\n",
       "  border-radius: 0.25em;\n",
       "  box-sizing: border-box;\n",
       "  margin-bottom: 0.5em;\n",
       "  /* unfitted */\n",
       "  background-color: var(--sklearn-color-unfitted-level-0);\n",
       "}\n",
       "\n",
       "#sk-container-id-1 div.sk-estimator.fitted {\n",
       "  /* fitted */\n",
       "  background-color: var(--sklearn-color-fitted-level-0);\n",
       "}\n",
       "\n",
       "/* on hover */\n",
       "#sk-container-id-1 div.sk-estimator:hover {\n",
       "  /* unfitted */\n",
       "  background-color: var(--sklearn-color-unfitted-level-2);\n",
       "}\n",
       "\n",
       "#sk-container-id-1 div.sk-estimator.fitted:hover {\n",
       "  /* fitted */\n",
       "  background-color: var(--sklearn-color-fitted-level-2);\n",
       "}\n",
       "\n",
       "/* Specification for estimator info (e.g. \"i\" and \"?\") */\n",
       "\n",
       "/* Common style for \"i\" and \"?\" */\n",
       "\n",
       ".sk-estimator-doc-link,\n",
       "a:link.sk-estimator-doc-link,\n",
       "a:visited.sk-estimator-doc-link {\n",
       "  float: right;\n",
       "  font-size: smaller;\n",
       "  line-height: 1em;\n",
       "  font-family: monospace;\n",
       "  background-color: var(--sklearn-color-background);\n",
       "  border-radius: 1em;\n",
       "  height: 1em;\n",
       "  width: 1em;\n",
       "  text-decoration: none !important;\n",
       "  margin-left: 0.5em;\n",
       "  text-align: center;\n",
       "  /* unfitted */\n",
       "  border: var(--sklearn-color-unfitted-level-1) 1pt solid;\n",
       "  color: var(--sklearn-color-unfitted-level-1);\n",
       "}\n",
       "\n",
       ".sk-estimator-doc-link.fitted,\n",
       "a:link.sk-estimator-doc-link.fitted,\n",
       "a:visited.sk-estimator-doc-link.fitted {\n",
       "  /* fitted */\n",
       "  border: var(--sklearn-color-fitted-level-1) 1pt solid;\n",
       "  color: var(--sklearn-color-fitted-level-1);\n",
       "}\n",
       "\n",
       "/* On hover */\n",
       "div.sk-estimator:hover .sk-estimator-doc-link:hover,\n",
       ".sk-estimator-doc-link:hover,\n",
       "div.sk-label-container:hover .sk-estimator-doc-link:hover,\n",
       ".sk-estimator-doc-link:hover {\n",
       "  /* unfitted */\n",
       "  background-color: var(--sklearn-color-unfitted-level-3);\n",
       "  color: var(--sklearn-color-background);\n",
       "  text-decoration: none;\n",
       "}\n",
       "\n",
       "div.sk-estimator.fitted:hover .sk-estimator-doc-link.fitted:hover,\n",
       ".sk-estimator-doc-link.fitted:hover,\n",
       "div.sk-label-container:hover .sk-estimator-doc-link.fitted:hover,\n",
       ".sk-estimator-doc-link.fitted:hover {\n",
       "  /* fitted */\n",
       "  background-color: var(--sklearn-color-fitted-level-3);\n",
       "  color: var(--sklearn-color-background);\n",
       "  text-decoration: none;\n",
       "}\n",
       "\n",
       "/* Span, style for the box shown on hovering the info icon */\n",
       ".sk-estimator-doc-link span {\n",
       "  display: none;\n",
       "  z-index: 9999;\n",
       "  position: relative;\n",
       "  font-weight: normal;\n",
       "  right: .2ex;\n",
       "  padding: .5ex;\n",
       "  margin: .5ex;\n",
       "  width: min-content;\n",
       "  min-width: 20ex;\n",
       "  max-width: 50ex;\n",
       "  color: var(--sklearn-color-text);\n",
       "  box-shadow: 2pt 2pt 4pt #999;\n",
       "  /* unfitted */\n",
       "  background: var(--sklearn-color-unfitted-level-0);\n",
       "  border: .5pt solid var(--sklearn-color-unfitted-level-3);\n",
       "}\n",
       "\n",
       ".sk-estimator-doc-link.fitted span {\n",
       "  /* fitted */\n",
       "  background: var(--sklearn-color-fitted-level-0);\n",
       "  border: var(--sklearn-color-fitted-level-3);\n",
       "}\n",
       "\n",
       ".sk-estimator-doc-link:hover span {\n",
       "  display: block;\n",
       "}\n",
       "\n",
       "/* \"?\"-specific style due to the `<a>` HTML tag */\n",
       "\n",
       "#sk-container-id-1 a.estimator_doc_link {\n",
       "  float: right;\n",
       "  font-size: 1rem;\n",
       "  line-height: 1em;\n",
       "  font-family: monospace;\n",
       "  background-color: var(--sklearn-color-background);\n",
       "  border-radius: 1rem;\n",
       "  height: 1rem;\n",
       "  width: 1rem;\n",
       "  text-decoration: none;\n",
       "  /* unfitted */\n",
       "  color: var(--sklearn-color-unfitted-level-1);\n",
       "  border: var(--sklearn-color-unfitted-level-1) 1pt solid;\n",
       "}\n",
       "\n",
       "#sk-container-id-1 a.estimator_doc_link.fitted {\n",
       "  /* fitted */\n",
       "  border: var(--sklearn-color-fitted-level-1) 1pt solid;\n",
       "  color: var(--sklearn-color-fitted-level-1);\n",
       "}\n",
       "\n",
       "/* On hover */\n",
       "#sk-container-id-1 a.estimator_doc_link:hover {\n",
       "  /* unfitted */\n",
       "  background-color: var(--sklearn-color-unfitted-level-3);\n",
       "  color: var(--sklearn-color-background);\n",
       "  text-decoration: none;\n",
       "}\n",
       "\n",
       "#sk-container-id-1 a.estimator_doc_link.fitted:hover {\n",
       "  /* fitted */\n",
       "  background-color: var(--sklearn-color-fitted-level-3);\n",
       "}\n",
       "</style><div id=\"sk-container-id-1\" class=\"sk-top-container\"><div class=\"sk-text-repr-fallback\"><pre>LogisticRegression(max_iter=1000)</pre><b>In a Jupyter environment, please rerun this cell to show the HTML representation or trust the notebook. <br />On GitHub, the HTML representation is unable to render, please try loading this page with nbviewer.org.</b></div><div class=\"sk-container\" hidden><div class=\"sk-item\"><div class=\"sk-estimator fitted sk-toggleable\"><input class=\"sk-toggleable__control sk-hidden--visually\" id=\"sk-estimator-id-1\" type=\"checkbox\" checked><label for=\"sk-estimator-id-1\" class=\"sk-toggleable__label fitted sk-toggleable__label-arrow\"><div><div>LogisticRegression</div></div><div><a class=\"sk-estimator-doc-link fitted\" rel=\"noreferrer\" target=\"_blank\" href=\"https://scikit-learn.org/1.6/modules/generated/sklearn.linear_model.LogisticRegression.html\">?<span>Documentation for LogisticRegression</span></a><span class=\"sk-estimator-doc-link fitted\">i<span>Fitted</span></span></div></label><div class=\"sk-toggleable__content fitted\"><pre>LogisticRegression(max_iter=1000)</pre></div> </div></div></div></div>"
      ],
      "text/plain": [
       "LogisticRegression(max_iter=1000)"
      ]
     },
     "execution_count": 10,
     "metadata": {},
     "output_type": "execute_result"
    }
   ],
   "source": [
    "model = LogisticRegression(max_iter=1000)\n",
    "\n",
    "model.fit(X_train_scaled, y_train)\n"
   ]
  },
  {
   "cell_type": "code",
   "execution_count": 11,
   "id": "068509c3",
   "metadata": {},
   "outputs": [
    {
     "data": {
      "text/plain": [
       "array([1, 0, 0, 1, 1, 1, 1, 1, 0, 0, 1, 1, 0, 0, 1, 0, 0, 1, 0, 0, 1, 0,\n",
       "       1, 1, 1, 0, 0, 0, 0, 1, 1, 1, 0, 0, 0, 0, 0, 0, 1, 1, 1, 0, 1, 0,\n",
       "       1, 1, 1, 0, 1, 1, 0, 0, 1, 0, 1, 0, 0, 0, 1, 0, 0, 1, 0, 1, 1, 0,\n",
       "       0, 0, 0, 0, 0, 0, 0, 1, 0, 0, 0, 1, 0, 1, 1, 1, 1, 0, 1, 0, 1, 0,\n",
       "       0, 1, 1, 0, 0, 1, 1, 1, 0, 0, 1, 1, 1, 1, 1, 1, 0, 0, 0, 1, 1, 0,\n",
       "       0, 0, 1, 1, 1, 1, 0, 0, 0, 0, 0, 1, 1, 1, 1, 1, 0, 1, 1, 0, 1, 1,\n",
       "       0, 1, 1, 1, 1, 0, 1, 1, 0, 1, 0, 1, 0, 0, 0, 0, 0, 0, 1, 0, 1, 1,\n",
       "       1, 0, 0, 1, 1, 0, 1, 1, 1, 1, 1, 0, 1, 1, 1, 0, 0, 0, 0, 1, 0, 1,\n",
       "       0, 0, 1, 0, 0, 0, 1, 0, 1, 0, 0, 1, 1, 1, 1, 1, 1, 0, 0, 0, 0, 1,\n",
       "       1, 0])"
      ]
     },
     "execution_count": 11,
     "metadata": {},
     "output_type": "execute_result"
    }
   ],
   "source": [
    "y_pred = model.predict(X_test_scaled)\n",
    "y_pred"
   ]
  },
  {
   "cell_type": "markdown",
   "id": "53fbab38",
   "metadata": {},
   "source": [
    "### Evaluación"
   ]
  },
  {
   "cell_type": "code",
   "execution_count": 12,
   "id": "c1d9be06",
   "metadata": {},
   "outputs": [
    {
     "data": {
      "text/plain": [
       "array([[56, 52],\n",
       "       [43, 49]])"
      ]
     },
     "execution_count": 12,
     "metadata": {},
     "output_type": "execute_result"
    }
   ],
   "source": [
    "#CONFUSSION MATRIX:\n",
    "\n",
    "confusion_matrix(y_test, y_pred)"
   ]
  },
  {
   "cell_type": "code",
   "execution_count": 13,
   "id": "cd2b2d69",
   "metadata": {},
   "outputs": [
    {
     "name": "stdout",
     "output_type": "stream",
     "text": [
      "[[0.46761525 0.53238475]\n",
      " [0.54830091 0.45169909]\n",
      " [0.51575566 0.48424434]\n",
      " [0.46600759 0.53399241]\n",
      " [0.49228402 0.50771598]]\n"
     ]
    }
   ],
   "source": [
    "#PROBA:\n",
    "\n",
    "y_proba = model.predict_proba(X_test_scaled)\n",
    "print(y_proba[:5])  # Probabilidades de las primeras 5 muestras\n"
   ]
  },
  {
   "cell_type": "code",
   "execution_count": 14,
   "id": "0ddfc012",
   "metadata": {},
   "outputs": [
    {
     "data": {
      "text/plain": [
       "0.525"
      ]
     },
     "execution_count": 14,
     "metadata": {},
     "output_type": "execute_result"
    }
   ],
   "source": [
    "#ACCURACY:\n",
    "\n",
    "accuracy_score(y_test, y_pred)"
   ]
  },
  {
   "cell_type": "code",
   "execution_count": 15,
   "id": "e289de19",
   "metadata": {},
   "outputs": [
    {
     "data": {
      "text/plain": [
       "<Axes: >"
      ]
     },
     "execution_count": 15,
     "metadata": {},
     "output_type": "execute_result"
    },
    {
     "data": {
      "image/png": "[encoded data removed]",
      "text/plain": [
       "<Figure size 640x480 with 2 Axes>"
      ]
     },
     "metadata": {},
     "output_type": "display_data"
    }
   ],
   "source": [
    "sns.heatmap(confusion_matrix(y_test,y_pred), cmap = \"coolwarm\",annot= True)"
   ]
  },
  {
   "cell_type": "code",
   "execution_count": 16,
   "id": "35b600c2",
   "metadata": {},
   "outputs": [
    {
     "name": "stdout",
     "output_type": "stream",
     "text": [
      "              precision    recall  f1-score   support\n",
      "\n",
      "           0       0.57      0.52      0.54       108\n",
      "           1       0.49      0.53      0.51        92\n",
      "\n",
      "    accuracy                           0.53       200\n",
      "   macro avg       0.53      0.53      0.52       200\n",
      "weighted avg       0.53      0.53      0.53       200\n",
      "\n"
     ]
    }
   ],
   "source": [
    "print(classification_report(y_test, y_pred))"
   ]
  },
  {
   "cell_type": "code",
   "execution_count": 17,
   "id": "39514276",
   "metadata": {},
   "outputs": [
    {
     "data": {
      "text/plain": [
       "<Axes: >"
      ]
     },
     "execution_count": 17,
     "metadata": {},
     "output_type": "execute_result"
    },
    {
     "data": {
      "image/png": "[encoded data removed]",
      "text/plain": [
       "<Figure size 640x480 with 2 Axes>"
      ]
     },
     "metadata": {},
     "output_type": "display_data"
    }
   ],
   "source": [
    "sns.heatmap(confusion_matrix(y_test, y_pred, normalize= \"true\"), annot= True)"
   ]
  },
  {
   "cell_type": "code",
   "execution_count": 18,
   "id": "35579761",
   "metadata": {},
   "outputs": [
    {
     "data": {
      "text/plain": [
       "0.525"
      ]
     },
     "execution_count": 18,
     "metadata": {},
     "output_type": "execute_result"
    }
   ],
   "source": [
    "model.score(X_test_scaled, y_test)\n"
   ]
  },
  {
   "cell_type": "code",
   "execution_count": 19,
   "id": "04bfa69b",
   "metadata": {},
   "outputs": [
    {
     "data": {
      "text/plain": [
       "np.float64(0.5255636070853462)"
      ]
     },
     "execution_count": 19,
     "metadata": {},
     "output_type": "execute_result"
    }
   ],
   "source": [
    "#ROC CURVE:\n",
    "roc_auc_score(y_test, y_pred)"
   ]
  },
  {
   "cell_type": "code",
   "execution_count": 20,
   "id": "3ae5ce19",
   "metadata": {},
   "outputs": [
    {
     "data": {
      "text/plain": [
       "array([[0.46761525, 0.53238475],\n",
       "       [0.54830091, 0.45169909],\n",
       "       [0.51575566, 0.48424434],\n",
       "       [0.46600759, 0.53399241],\n",
       "       [0.49228402, 0.50771598],\n",
       "       [0.38629246, 0.61370754],\n",
       "       [0.46296426, 0.53703574],\n",
       "       [0.40461591, 0.59538409],\n",
       "       [0.51776327, 0.48223673],\n",
       "       [0.51733196, 0.48266804],\n",
       "       [0.41320276, 0.58679724],\n",
       "       [0.48411367, 0.51588633],\n",
       "       [0.62262548, 0.37737452],\n",
       "       [0.5534809 , 0.4465191 ],\n",
       "       [0.45359845, 0.54640155],\n",
       "       [0.52699644, 0.47300356],\n",
       "       [0.5074197 , 0.4925803 ],\n",
       "       [0.48152878, 0.51847122],\n",
       "       [0.51145534, 0.48854466],\n",
       "       [0.50698638, 0.49301362],\n",
       "       [0.48064834, 0.51935166],\n",
       "       [0.5143256 , 0.4856744 ],\n",
       "       [0.46224198, 0.53775802],\n",
       "       [0.40744239, 0.59255761],\n",
       "       [0.44685378, 0.55314622],\n",
       "       [0.56433739, 0.43566261],\n",
       "       [0.51971918, 0.48028082],\n",
       "       [0.50838767, 0.49161233],\n",
       "       [0.56061147, 0.43938853],\n",
       "       [0.46201749, 0.53798251],\n",
       "       [0.49888039, 0.50111961],\n",
       "       [0.49937927, 0.50062073],\n",
       "       [0.50574181, 0.49425819],\n",
       "       [0.51275957, 0.48724043],\n",
       "       [0.62002391, 0.37997609],\n",
       "       [0.50193915, 0.49806085],\n",
       "       [0.50057636, 0.49942364],\n",
       "       [0.55067874, 0.44932126],\n",
       "       [0.4662585 , 0.5337415 ],\n",
       "       [0.48345666, 0.51654334],\n",
       "       [0.40772675, 0.59227325],\n",
       "       [0.52081748, 0.47918252],\n",
       "       [0.41309818, 0.58690182],\n",
       "       [0.50436136, 0.49563864],\n",
       "       [0.47397722, 0.52602278],\n",
       "       [0.47038985, 0.52961015],\n",
       "       [0.47542274, 0.52457726],\n",
       "       [0.52511891, 0.47488109],\n",
       "       [0.49475352, 0.50524648],\n",
       "       [0.43953936, 0.56046064],\n",
       "       [0.6013445 , 0.3986555 ],\n",
       "       [0.54158228, 0.45841772],\n",
       "       [0.42996186, 0.57003814],\n",
       "       [0.54293534, 0.45706466],\n",
       "       [0.44685378, 0.55314622],\n",
       "       [0.54796205, 0.45203795],\n",
       "       [0.54086095, 0.45913905],\n",
       "       [0.51522755, 0.48477245],\n",
       "       [0.43391566, 0.56608434],\n",
       "       [0.5029283 , 0.4970717 ],\n",
       "       [0.50474219, 0.49525781],\n",
       "       [0.46469879, 0.53530121],\n",
       "       [0.58408108, 0.41591892],\n",
       "       [0.49110814, 0.50889186],\n",
       "       [0.42807719, 0.57192281],\n",
       "       [0.55287946, 0.44712054],\n",
       "       [0.50394894, 0.49605106],\n",
       "       [0.53625176, 0.46374824],\n",
       "       [0.57688241, 0.42311759],\n",
       "       [0.52908966, 0.47091034],\n",
       "       [0.56099709, 0.43900291],\n",
       "       [0.6378105 , 0.3621895 ],\n",
       "       [0.55690981, 0.44309019],\n",
       "       [0.47156209, 0.52843791],\n",
       "       [0.61509745, 0.38490255],\n",
       "       [0.51061145, 0.48938855],\n",
       "       [0.51516738, 0.48483262],\n",
       "       [0.41606767, 0.58393233],\n",
       "       [0.53727772, 0.46272228],\n",
       "       [0.44871581, 0.55128419],\n",
       "       [0.40995444, 0.59004556],\n",
       "       [0.45890972, 0.54109028],\n",
       "       [0.4948823 , 0.5051177 ],\n",
       "       [0.58002733, 0.41997267],\n",
       "       [0.4979885 , 0.5020115 ],\n",
       "       [0.52190322, 0.47809678],\n",
       "       [0.41547517, 0.58452483],\n",
       "       [0.57757234, 0.42242766],\n",
       "       [0.50057636, 0.49942364],\n",
       "       [0.44998624, 0.55001376],\n",
       "       [0.4503946 , 0.5496054 ],\n",
       "       [0.56302445, 0.43697555],\n",
       "       [0.56574296, 0.43425704],\n",
       "       [0.4729594 , 0.5270406 ],\n",
       "       [0.49155786, 0.50844214],\n",
       "       [0.44765899, 0.55234101],\n",
       "       [0.50195702, 0.49804298],\n",
       "       [0.56950547, 0.43049453],\n",
       "       [0.44924995, 0.55075005],\n",
       "       [0.45843348, 0.54156652],\n",
       "       [0.46488438, 0.53511562],\n",
       "       [0.44770607, 0.55229393],\n",
       "       [0.46501262, 0.53498738],\n",
       "       [0.48388804, 0.51611196],\n",
       "       [0.5135999 , 0.4864001 ],\n",
       "       [0.57814546, 0.42185454],\n",
       "       [0.50394894, 0.49605106],\n",
       "       [0.44586556, 0.55413444],\n",
       "       [0.44166348, 0.55833652],\n",
       "       [0.52511891, 0.47488109],\n",
       "       [0.58580501, 0.41419499],\n",
       "       [0.50411456, 0.49588544],\n",
       "       [0.4763233 , 0.5236767 ],\n",
       "       [0.48585575, 0.51414425],\n",
       "       [0.41712361, 0.58287639],\n",
       "       [0.41600104, 0.58399896],\n",
       "       [0.52098282, 0.47901718],\n",
       "       [0.51738128, 0.48261872],\n",
       "       [0.52572715, 0.47427285],\n",
       "       [0.52799315, 0.47200685],\n",
       "       [0.50070523, 0.49929477],\n",
       "       [0.47242126, 0.52757874],\n",
       "       [0.49463551, 0.50536449],\n",
       "       [0.49397967, 0.50602033],\n",
       "       [0.47285181, 0.52714819],\n",
       "       [0.37297706, 0.62702294],\n",
       "       [0.5224786 , 0.4775214 ],\n",
       "       [0.47081012, 0.52918988],\n",
       "       [0.44712374, 0.55287626],\n",
       "       [0.53381483, 0.46618517],\n",
       "       [0.38021177, 0.61978823],\n",
       "       [0.47285181, 0.52714819],\n",
       "       [0.60485565, 0.39514435],\n",
       "       [0.41868983, 0.58131017],\n",
       "       [0.46605497, 0.53394503],\n",
       "       [0.46559707, 0.53440293],\n",
       "       [0.4362173 , 0.5637827 ],\n",
       "       [0.53761783, 0.46238217],\n",
       "       [0.36014079, 0.63985921],\n",
       "       [0.46966619, 0.53033381],\n",
       "       [0.57329804, 0.42670196],\n",
       "       [0.44451914, 0.55548086],\n",
       "       [0.54605562, 0.45394438],\n",
       "       [0.49040194, 0.50959806],\n",
       "       [0.596617  , 0.403383  ],\n",
       "       [0.6326864 , 0.3673136 ],\n",
       "       [0.52470905, 0.47529095],\n",
       "       [0.50118468, 0.49881532],\n",
       "       [0.53415527, 0.46584473],\n",
       "       [0.50039996, 0.49960004],\n",
       "       [0.43478224, 0.56521776],\n",
       "       [0.57445846, 0.42554154],\n",
       "       [0.43451345, 0.56548655],\n",
       "       [0.49029415, 0.50970585],\n",
       "       [0.41606767, 0.58393233],\n",
       "       [0.57305138, 0.42694862],\n",
       "       [0.50363514, 0.49636486],\n",
       "       [0.42965415, 0.57034585],\n",
       "       [0.49138152, 0.50861848],\n",
       "       [0.52631291, 0.47368709],\n",
       "       [0.41193766, 0.58806234],\n",
       "       [0.40657087, 0.59342913],\n",
       "       [0.43478224, 0.56521776],\n",
       "       [0.46392878, 0.53607122],\n",
       "       [0.46684471, 0.53315529],\n",
       "       [0.5745844 , 0.4254156 ],\n",
       "       [0.48968607, 0.51031393],\n",
       "       [0.45999182, 0.54000818],\n",
       "       [0.43438687, 0.56561313],\n",
       "       [0.52555121, 0.47444879],\n",
       "       [0.52902133, 0.47097867],\n",
       "       [0.51292509, 0.48707491],\n",
       "       [0.58352957, 0.41647043],\n",
       "       [0.47949388, 0.52050612],\n",
       "       [0.54556093, 0.45443907],\n",
       "       [0.46732208, 0.53267792],\n",
       "       [0.5534809 , 0.4465191 ],\n",
       "       [0.51835135, 0.48164865],\n",
       "       [0.45859796, 0.54140204],\n",
       "       [0.51978764, 0.48021236],\n",
       "       [0.52236081, 0.47763919],\n",
       "       [0.53989757, 0.46010243],\n",
       "       [0.46185282, 0.53814718],\n",
       "       [0.55616498, 0.44383502],\n",
       "       [0.47302777, 0.52697223],\n",
       "       [0.50710438, 0.49289562],\n",
       "       [0.560012  , 0.439988  ],\n",
       "       [0.46546889, 0.53453111],\n",
       "       [0.47061492, 0.52938508],\n",
       "       [0.44783199, 0.55216801],\n",
       "       [0.4236789 , 0.5763211 ],\n",
       "       [0.48270304, 0.51729696],\n",
       "       [0.46368325, 0.53631675],\n",
       "       [0.52584486, 0.47415514],\n",
       "       [0.53075875, 0.46924125],\n",
       "       [0.52111138, 0.47888862],\n",
       "       [0.54663941, 0.45336059],\n",
       "       [0.47302777, 0.52697223],\n",
       "       [0.45205525, 0.54794475],\n",
       "       [0.52009242, 0.47990758]])"
      ]
     },
     "execution_count": 20,
     "metadata": {},
     "output_type": "execute_result"
    }
   ],
   "source": [
    "pred_proba = model.predict_proba(X_test_scaled)\n",
    "pred_proba"
   ]
  },
  {
   "cell_type": "code",
   "execution_count": 21,
   "id": "3f439a2e",
   "metadata": {},
   "outputs": [],
   "source": [
    "fpr, tpr, t = roc_curve(y_test, pred_proba[:,1])"
   ]
  },
  {
   "cell_type": "code",
   "execution_count": 22,
   "id": "fb8ad125",
   "metadata": {},
   "outputs": [
    {
     "data": {
      "text/plain": [
       "Text(0, 0.5, 'verdaderos positivos')"
      ]
     },
     "execution_count": 22,
     "metadata": {},
     "output_type": "execute_result"
    },
    {
     "data": {
      "image/png": "[encoded data removed]",
      "text/plain": [
       "<Figure size 640x480 with 1 Axes>"
      ]
     },
     "metadata": {},
     "output_type": "display_data"
    }
   ],
   "source": [
    "plt.plot(fpr, tpr)\n",
    "plt.xlabel(\"Falsos positivos\")\n",
    "plt.ylabel(\"verdaderos positivos\")"
   ]
  },
  {
   "cell_type": "code",
   "execution_count": 23,
   "id": "10aa6d1e",
   "metadata": {},
   "outputs": [
    {
     "data": {
      "text/plain": [
       "Text(0, 0.5, 'recall')"
      ]
     },
     "execution_count": 23,
     "metadata": {},
     "output_type": "execute_result"
    },
    {
     "data": {
      "image/png": "[encoded data removed]",
      "text/plain": [
       "<Figure size 640x480 with 1 Axes>"
      ]
     },
     "metadata": {},
     "output_type": "display_data"
    }
   ],
   "source": [
    "#P-R CURVE\n",
    "precision, recall, t = precision_recall_curve(y_test, pred_proba[:,1])\n",
    "\n",
    "plt.plot(precision, recall)\n",
    "\n",
    "plt.xlabel(\"precision\")\n",
    "plt.ylabel(\"recall\")\n"
   ]
  },
  {
   "cell_type": "markdown",
   "id": "ac7575cd",
   "metadata": {},
   "source": [
    "## PKL"
   ]
  },
  {
   "cell_type": "code",
   "execution_count": 24,
   "id": "a009f0a0",
   "metadata": {},
   "outputs": [],
   "source": [
    "import pickle\n",
    "#guardar modelo\n",
    "with open(\"../models/M1B_LR.pkl\", \"wb\") as f:\n",
    "    pickle.dump(model, f)\n",
    "    \n",
    "#guardar scaler\n",
    "with open(\"../models/M1B_scaler.pkl\", \"wb\") as f:\n",
    "    pickle.dump(scaler, f)\n",
    "\n",
    "\n"
   ]
  },
  {
   "cell_type": "code",
   "execution_count": 25,
   "id": "024d7932",
   "metadata": {},
   "outputs": [],
   "source": [
    "# CARGAR el scaler\n",
    "with open(\"../models/M1B_scaler.pkl\", \"rb\") as f:\n",
    "    scaler = pickle.load(f)\n",
    "\n",
    "# CARGAR el modelo\n",
    "with open(\"../models/M1B_LR.pkl\", \"rb\") as f:\n",
    "    model = pickle.load(f)\n",
    "\n",
    "X_test_scaled = X_test.copy()\n",
    "X_test_scaled[\"Age\"] = scaler.transform(X_test[[\"Age\"]])\n"
   ]
  },
  {
   "cell_type": "code",
   "execution_count": 26,
   "id": "79b0d9a0",
   "metadata": {},
   "outputs": [],
   "source": [
    "# HACER PREDICCIONES\n",
    "y_pred = model.predict(X_test_scaled)"
   ]
  }
 ],
 "metadata": {
  "kernelspec": {
   "display_name": "Python 3",
   "language": "python",
   "name": "python3"
  },
  "language_info": {
   "codemirror_mode": {
    "name": "ipython",
    "version": 3
   },
   "file_extension": ".py",
   "mimetype": "text/x-python",
   "name": "python",
   "nbconvert_exporter": "python",
   "pygments_lexer": "ipython3",
   "version": "3.11.9"
  }
 },
 "nbformat": 4,
 "nbformat_minor": 5
}
